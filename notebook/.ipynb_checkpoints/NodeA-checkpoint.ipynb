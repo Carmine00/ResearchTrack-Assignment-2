{
 "cells": [
  {
   "cell_type": "code",
   "execution_count": 1,
   "id": "ef1cf3e5",
   "metadata": {
    "scrolled": true
   },
   "outputs": [
    {
     "data": {
      "application/vnd.jupyter.widget-view+json": {
       "model_id": "b1544b665fe2459fbc78d98c9fa5c546",
       "version_major": 2,
       "version_minor": 0
      },
      "text/plain": [
       "Button(description='Set goal', style=ButtonStyle())"
      ]
     },
     "metadata": {},
     "output_type": "display_data"
    },
    {
     "data": {
      "application/vnd.jupyter.widget-view+json": {
       "model_id": "5cc8bd1475bb4dea921c26206dc7cb64",
       "version_major": 2,
       "version_minor": 0
      },
      "text/plain": [
       "FloatText(value=0.0, description='X:')"
      ]
     },
     "metadata": {},
     "output_type": "display_data"
    },
    {
     "data": {
      "application/vnd.jupyter.widget-view+json": {
       "model_id": "1195bd337f384c95a8fb7e38be89a7ad",
       "version_major": 2,
       "version_minor": 0
      },
      "text/plain": [
       "FloatText(value=0.0, description='Y:')"
      ]
     },
     "metadata": {},
     "output_type": "display_data"
    },
    {
     "data": {
      "application/vnd.jupyter.widget-view+json": {
       "model_id": "6a482826a10b4fedba8562c13a6c5b43",
       "version_major": 2,
       "version_minor": 0
      },
      "text/plain": [
       "Button(description='Cancel goal', style=ButtonStyle())"
      ]
     },
     "metadata": {},
     "output_type": "display_data"
    },
    {
     "name": "stderr",
     "output_type": "stream",
     "text": [
      "[WARN] [1683365978.752269, 1369.875000]: Inbound TCP/IP connection failed: connection from sender terminated before handshake header received. 0 bytes were received. Please check sender for additional details.\n",
      "[WARN] [1683366310.871536, 1587.727000]: Inbound TCP/IP connection failed: connection from sender terminated before handshake header received. 0 bytes were received. Please check sender for additional details.\n",
      "[WARN] [1683366310.881372, 1587.736000]: Inbound TCP/IP connection failed: connection from sender terminated before handshake header received. 0 bytes were received. Please check sender for additional details.\n"
     ]
    },
    {
     "name": "stdout",
     "output_type": "stream",
     "text": [
      "shutdown request: user request\n"
     ]
    }
   ],
   "source": [
    "import jupyros as jr\n",
    "import rospy\n",
    "import actionlib\n",
    "import assignment_2_2022.msg\n",
    "import time\n",
    "import ipywidgets as widgets\n",
    "    \n",
    "def elaborate_goal(b):\n",
    "    goal = assignment_2_2022.msg.PlanningGoal()\n",
    "    goal.target_pose.pose.position.x = text_x.value\n",
    "    goal.target_pose.pose.position.y = text_y.value\n",
    "    client.send_goal(goal)\n",
    "    \n",
    "def cancel_goal(b):\n",
    "    goal = client.cancel_goal()\n",
    "\n",
    "\n",
    "# wait for server to start before creating the client\n",
    "time.sleep(8)\n",
    "rospy.init_node('NodeA_node')\n",
    "client = actionlib.SimpleActionClient('/reaching_goal', assignment_2_2022.msg.PlanningAction)\n",
    "client.wait_for_server()\n",
    "\n",
    "set_g = widgets.Button(\n",
    "value=False,\n",
    "description='Set goal',\n",
    "button_style='', # 'success', 'info', 'warning', 'danger' or ''\n",
    "disabled=False,\n",
    ")\n",
    "set_g.on_click(elaborate_goal)\n",
    "\n",
    "canc_g = widgets.Button(\n",
    "value=False,\n",
    "description='Cancel goal',\n",
    "button_style='', # 'success', 'info', 'warning', 'danger' or ''\n",
    "disabled=False,\n",
    ")\n",
    "canc_g.on_click(cancel_goal)\n",
    "\n",
    "text_x = widgets.FloatText(\n",
    "description = 'X:',\n",
    "disabled = False\n",
    ")\n",
    "\n",
    "text_y = widgets.FloatText(\n",
    "description = 'Y:',\n",
    "disabled = False\n",
    ")\n",
    "\n",
    "\n",
    "display(set_g,text_x,text_y,canc_g)"
   ]
  },
  {
   "cell_type": "code",
   "execution_count": null,
   "id": "30018ce1",
   "metadata": {},
   "outputs": [],
   "source": []
  }
 ],
 "metadata": {
  "kernelspec": {
   "display_name": "Python 3 (ipykernel)",
   "language": "python",
   "name": "python3"
  },
  "language_info": {
   "codemirror_mode": {
    "name": "ipython",
    "version": 3
   },
   "file_extension": ".py",
   "mimetype": "text/x-python",
   "name": "python",
   "nbconvert_exporter": "python",
   "pygments_lexer": "ipython3",
   "version": "3.8.5"
  }
 },
 "nbformat": 4,
 "nbformat_minor": 5
}
