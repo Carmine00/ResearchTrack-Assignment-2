{
 "cells": [
  {
   "cell_type": "code",
   "execution_count": null,
   "id": "ef1cf3e5",
   "metadata": {},
   "outputs": [],
   "source": [
    "import jupyros as jr\n",
    "import rospy\n",
    "import actionlib\n",
    "import assignment_2_2022.msg\n",
    "import time\n",
    "from ipywidgets import Layout, HBox, VBox\n",
    "import ipywidgets as widgets\n",
    "\n",
    "def elaborate_goal(b):\n",
    "    goal = assignment_2_2022.msg.PlanningGoal()\n",
    "    goal.target_pose.pose.position.x = text_x.value\n",
    "    goal.target_pose.pose.position.y = text_y.value\n",
    "    client.send_goal(goal)\n",
    "    print(\"Goal acquired!\")\n",
    "    \n",
    "def cancel_goal(b):\n",
    "    print(\"Cancelled!\")\n",
    "\n",
    "time.sleep(8)\n",
    "rospy.init_node('NodeA_node')\n",
    "client = actionlib.SimpleActionClient('/reaching_goal', assignment_2_2022.msg.PlanningAction)\n",
    "client.wait_for_server()\n",
    "\n",
    "set_g = widgets.Button(\n",
    "value=False,\n",
    "description='Set goal',\n",
    "button_style='', # 'success', 'info', 'warning', 'danger' or ''\n",
    "disabled=False,\n",
    ")\n",
    "set_g.on_click(elaborate_goal)\n",
    "\n",
    "canc_g = widgets.Button(\n",
    "value=False,\n",
    "description='Cancel goal',\n",
    "button_style='', # 'success', 'info', 'warning', 'danger' or ''\n",
    "disabled=False,\n",
    ")\n",
    "canc_g.on_click(cancel_goal)\n",
    "\n",
    "text_x = widgets.FloatText(\n",
    "description = 'X:',\n",
    "disabled = False\n",
    ")\n",
    "\n",
    "text_y = widgets.FloatText(\n",
    "description = 'Y:',\n",
    "disabled = False\n",
    ")\n",
    "\n",
    "display(set_g,text_x,text_y,canc_g)"
   ]
  },
  {
   "cell_type": "code",
   "execution_count": null,
   "id": "7afb3a9b",
   "metadata": {},
   "outputs": [],
   "source": []
  }
 ],
 "metadata": {
  "kernelspec": {
   "display_name": "Python 3 (ipykernel)",
   "language": "python",
   "name": "python3"
  },
  "language_info": {
   "codemirror_mode": {
    "name": "ipython",
    "version": 3
   },
   "file_extension": ".py",
   "mimetype": "text/x-python",
   "name": "python",
   "nbconvert_exporter": "python",
   "pygments_lexer": "ipython3",
   "version": "3.8.5"
  }
 },
 "nbformat": 4,
 "nbformat_minor": 5
}
